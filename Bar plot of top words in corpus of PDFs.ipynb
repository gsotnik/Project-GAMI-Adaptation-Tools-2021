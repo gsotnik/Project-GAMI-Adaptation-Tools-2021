{
 "cells": [
  {
   "cell_type": "markdown",
   "metadata": {},
   "source": [
    "**Name:** Top words in corpus of PDFs.  \n",
    "**Description:** The R code identifies the ten top words in a corpus of PDF files that are associated with the Capacity Building tool type. Capacity Building is one of the six tool types used in the study.  \n",
    "**Author:** Garry Sotnik.  "
   ]
  },
  {
   "cell_type": "markdown",
   "metadata": {},
   "source": [
    "### Install and load relevant libraries  "
   ]
  },
  {
   "cell_type": "markdown",
   "metadata": {},
   "source": [
    "Install relevant packages."
   ]
  },
  {
   "cell_type": "code",
   "execution_count": null,
   "metadata": {},
   "outputs": [],
   "source": [
    "install.packages(\"tm\")\n",
    "install.packages(\"ggplot2\")\n",
    "install.packages(\"dplyr\")\n",
    "install.packages(\"ggplot2\")\n",
    "install.packages(\"lattice\")\n",
    "install.packages(\"pdftools\")\n",
    "install.packages(\"reshape2\")\n",
    "install.packages(\"scales\")\n",
    "install.packages(\"SnowballC\")\n",
    "install.packages(\"stringr\")\n",
    "install.packages(\"tidytext\")\n",
    "install.packages(\"tidyverse\")\n",
    "install.packages(\"topicmodels\")\n",
    "install.packages(\"tidyr\")\n",
    "install.packages(\"udpipe\")"
   ]
  },
  {
   "cell_type": "markdown",
   "metadata": {},
   "source": [
    "Load the needed libraries."
   ]
  },
  {
   "cell_type": "code",
   "execution_count": null,
   "metadata": {},
   "outputs": [],
   "source": [
    "library(tm)\n",
    "library(ggplot2)\n",
    "library(dplyr)\n",
    "library(ggplot2)\n",
    "library(lattice)\n",
    "library(pdftools)\n",
    "library(reshape2)\n",
    "library(scales)\n",
    "library(SnowballC)\n",
    "library(stringr)\n",
    "library(tidytext)\n",
    "library(tidyverse)\n",
    "library(tm)\n",
    "library(topicmodels)\n",
    "library(tidyr)\n",
    "library(udpipe)"
   ]
  },
  {
   "cell_type": "markdown",
   "metadata": {},
   "source": [
    "### Buld a corpus from the PDF files  "
   ]
  },
  {
   "cell_type": "markdown",
   "metadata": {},
   "source": [
    "Set the working directory to the folder with the source code and the PDF files."
   ]
  },
  {
   "cell_type": "code",
   "execution_count": null,
   "metadata": {},
   "outputs": [],
   "source": [
    "library(rstudioapi)\n",
    "setwd(dirname(getActiveDocumentContext()$path))\n",
    "getwd()"
   ]
  },
  {
   "cell_type": "markdown",
   "metadata": {},
   "source": [
    "List the PDF files in the folder."
   ]
  },
  {
   "cell_type": "code",
   "execution_count": null,
   "metadata": {},
   "outputs": [],
   "source": [
    "pdfs <- list.files(pattern = \"pdf$\")"
   ]
  },
  {
   "cell_type": "markdown",
   "metadata": {},
   "source": [
    "Build a corpus from the files in the folder."
   ]
  },
  {
   "cell_type": "code",
   "execution_count": null,
   "metadata": {},
   "outputs": [],
   "source": [
    "corp <- Corpus(URISource(pdfs),\n",
    "               readerControl = list(reader = readPDF))"
   ]
  },
  {
   "cell_type": "markdown",
   "metadata": {},
   "source": [
    "### Clean the corpus.\n",
    "Start by removing punctuation."
   ]
  },
  {
   "cell_type": "code",
   "execution_count": null,
   "metadata": {},
   "outputs": [],
   "source": [
    "corp <- tm_map(corp, removePunctuation, ucp = TRUE)"
   ]
  },
  {
   "cell_type": "markdown",
   "metadata": {},
   "source": [
    "Remove numbers."
   ]
  },
  {
   "cell_type": "code",
   "execution_count": null,
   "metadata": {},
   "outputs": [],
   "source": [
    "corp <- tm_map(corp, removeNumbers, ucp = TRUE)"
   ]
  },
  {
   "cell_type": "markdown",
   "metadata": {},
   "source": [
    "Remove white space."
   ]
  },
  {
   "cell_type": "code",
   "execution_count": null,
   "metadata": {},
   "outputs": [],
   "source": [
    "corp <- tm_map(corp, stripWhitespace)\n"
   ]
  },
  {
   "cell_type": "markdown",
   "metadata": {},
   "source": [
    "Remove English stop words."
   ]
  },
  {
   "cell_type": "code",
   "execution_count": null,
   "metadata": {},
   "outputs": [],
   "source": [
    "corp <- tm_map(corp, removeWords, stopwords(\"english\"))"
   ]
  },
  {
   "cell_type": "markdown",
   "metadata": {},
   "source": [
    "Remove specific common words."
   ]
  },
  {
   "cell_type": "code",
   "execution_count": null,
   "metadata": {},
   "outputs": [],
   "source": [
    "removeCommonWords <- function(x) gsub(\"chang\", \"\", x)\n",
    "corp <- tm_map(corp, content_transformer(removeCommonWords))\n",
    "removeCommonWords <- function(x) gsub(\"climat\", \"\", x)\n",
    "corp <- tm_map(corp, content_transformer(removeCommonWords))\n",
    "removeCommonWords <- function(x) gsub(\"adapt\", \"\", x)\n",
    "corp <- tm_map(corp, content_transformer(removeCommonWords))\n",
    "removeCommonWords <- function(x) gsub(\"ation\", \"\", x)\n",
    "corp <- tm_map(corp, content_transformer(removeCommonWords))\n",
    "removeCommonWords <- function(x) gsub(\"use\", \"\", x)\n",
    "corp <- tm_map(corp, content_transformer(removeCommonWords))\n",
    "removeCommonWords <- function(x) gsub(\"hohold\", \"\", x)\n",
    "corp <- tm_map(corp, content_transformer(removeCommonWords))\n",
    "removeCommonWords <- function(x) gsub(\"also\", \"\", x)\n",
    "corp <- tm_map(corp, content_transformer(removeCommonWords))"
   ]
  },
  {
   "cell_type": "markdown",
   "metadata": {},
   "source": [
    "Replace special characters with space."
   ]
  },
  {
   "cell_type": "code",
   "execution_count": null,
   "metadata": {},
   "outputs": [],
   "source": [
    "toSpace <- content_transformer(function(x, pattern) gsub(pattern, \"\",x))\n",
    "corp <- tm_map(corp, toSpace, \"/\")\n",
    "corp <- tm_map(corp, toSpace, \"@\")\n",
    "corp <- tm_map(corp, toSpace, \"Â¢\")\n",
    "corp <- tm_map(corp, toSpace, \"â\")\n",
    "corp <- tm_map(corp, toSpace, \"Â¬\")\n",
    "corp <- tm_map(corp, toSpace, \"â¬\")\n",
    "corp <- tm_map(corp, toSpace, \"Â´\")\n",
    "corp <- tm_map(corp, toSpace, \"Â¯\")"
   ]
  },
  {
   "cell_type": "markdown",
   "metadata": {},
   "source": [
    "Convert the text to lower case."
   ]
  },
  {
   "cell_type": "code",
   "execution_count": null,
   "metadata": {},
   "outputs": [],
   "source": [
    "corp <- tm_map(corp, content_transformer(tolower))"
   ]
  },
  {
   "cell_type": "code",
   "execution_count": null,
   "metadata": {},
   "outputs": [],
   "source": [
    "Reduce words to their root form."
   ]
  },
  {
   "cell_type": "code",
   "execution_count": null,
   "metadata": {},
   "outputs": [],
   "source": [
    "corp <- tm_map(corp, stemDocument)"
   ]
  },
  {
   "cell_type": "markdown",
   "metadata": {},
   "source": [
    "Remove emojis \"ï¿½\""
   ]
  },
  {
   "cell_type": "code",
   "execution_count": null,
   "metadata": {},
   "outputs": [],
   "source": [
    "corp <- tm_map(corp, content_transformer(gsub), pattern=\"\\\\W\",replace=\" \")"
   ]
  },
  {
   "cell_type": "markdown",
   "metadata": {},
   "source": [
    "Remove URLs."
   ]
  },
  {
   "cell_type": "code",
   "execution_count": null,
   "metadata": {},
   "outputs": [],
   "source": [
    "removeURL <- function(x) gsub(\"http[^[:space:]]*\", \"\", x)\n",
    "corp <- tm_map(corp, content_transformer(removeURL))"
   ]
  },
  {
   "cell_type": "markdown",
   "metadata": {},
   "source": [
    "Remove anything other then English letters or space."
   ]
  },
  {
   "cell_type": "code",
   "execution_count": null,
   "metadata": {},
   "outputs": [],
   "source": [
    "removeNumPunct <- function(x) gsub(\"[^[:alpha:][:space:]]*\", \"\", x)\n",
    "corp <- tm_map(corp, content_transformer(removeNumPunct))"
   ]
  },
  {
   "cell_type": "code",
   "execution_count": null,
   "metadata": {},
   "outputs": [],
   "source": [
    "Remove extra whitespace."
   ]
  },
  {
   "cell_type": "code",
   "execution_count": null,
   "metadata": {},
   "outputs": [],
   "source": [
    "corp <- tm_map(corp, stripWhitespace)"
   ]
  },
  {
   "cell_type": "markdown",
   "metadata": {},
   "source": [
    "### Prepare the corpus for analysis  \n",
    "Convert the corups into a Term Document Matrix."
   ]
  },
  {
   "cell_type": "code",
   "execution_count": null,
   "metadata": {},
   "outputs": [],
   "source": [
    "tools.tdm <- TermDocumentMatrix(corp, \n",
    "                                control = \n",
    "                                  list(stopwords = TRUE,\n",
    "                                       tolower = TRUE,\n",
    "                                       stemming = TRUE,\n",
    "                                       removeNumbers = TRUE,\n",
    "                                       bounds = list(global = c(3, Inf))))"
   ]
  },
  {
   "cell_type": "code",
   "execution_count": null,
   "metadata": {},
   "outputs": [],
   "source": [
    "Convert the Term Document Matrix into a regular matrix."
   ]
  },
  {
   "cell_type": "code",
   "execution_count": null,
   "metadata": {},
   "outputs": [],
   "source": [
    "N <- 10\n",
    "m <- as.matrix(tools.tdm)\n",
    "v <- sort(rowSums(m), decreasing=TRUE)\n",
    "head(v, N)\n",
    "v.df<- data.frame(v)\n",
    "v.df <- cbind(word = rownames(v.df), v.df)\n",
    "rownames(v.df) <- 1:nrow(v.df)\n",
    "v.df <- v.df[1:N, ]\n",
    "v.df\n",
    "colnames(v.df)[2] <- \"frequency\"\n",
    "v.df"
   ]
  },
  {
   "cell_type": "markdown",
   "metadata": {},
   "source": [
    "Convert the matrix into a dataframe."
   ]
  },
  {
   "cell_type": "code",
   "execution_count": null,
   "metadata": {},
   "outputs": [],
   "source": [
    "v.df<- data.frame(v)\n",
    "v.df <- cbind(word = rownames(v.df), v.df)\n",
    "rownames(v.df) <- 1:nrow(v.df)\n",
    "v.df <- v.df[1:N, ]\n",
    "v.df\n",
    "colnames(v.df)[2] <- \"frequency\"\n",
    "v.df"
   ]
  },
  {
   "cell_type": "markdown",
   "metadata": {},
   "source": [
    "### Create the bar plot  \n",
    "Create the bar plot of top words."
   ]
  },
  {
   "cell_type": "code",
   "execution_count": null,
   "metadata": {},
   "outputs": [],
   "source": [
    "library(ggplot2)\n",
    "library(extrafont)\n",
    "tiff(\"Capacity building.tiff\", units=\"in\", width=5, height=5, res=300)\n",
    "ggplot(data=v.df, aes(x=reorder(word, + frequency), y=frequency)) +\n",
    "  ggtitle(\"Capacity building\") +\n",
    "  geom_bar(stat=\"identity\") +\n",
    "  scale_y_continuous(breaks=seq(0,6000,1000)) +\n",
    "  coord_flip() +\n",
    "  labs(x =\"Top word\", y = \"Frequency\") +\n",
    "  theme(plot.title = element_text(family=\"Times New Roman\", vjust = - 100, hjust = .9),\n",
    "        panel.background = element_blank(),\n",
    "        panel.grid.major = element_line(color=\"grey\", size = (0.2)),\n",
    "        panel.grid.minor = element_line(size = (0.2), color=\"grey\"),\n",
    "        axis.text = element_text(family=\"Times New Roman\"),\n",
    "        axis.title.x = element_text(family=\"Times New Roman\"),\n",
    "        axis.title.y = element_text(family=\"Times New Roman\"),\n",
    "        axis.line = element_line(colour = \"black\"))\n",
    "dev.off()"
   ]
  }
 ],
 "metadata": {
  "celltoolbar": "Edit Metadata",
  "kernelspec": {
   "display_name": "R",
   "language": "R",
   "name": "ir"
  },
  "language_info": {
   "codemirror_mode": "r",
   "file_extension": ".r",
   "mimetype": "text/x-r-source",
   "name": "R",
   "pygments_lexer": "r",
   "version": "3.6.1"
  }
 },
 "nbformat": 4,
 "nbformat_minor": 5
}
